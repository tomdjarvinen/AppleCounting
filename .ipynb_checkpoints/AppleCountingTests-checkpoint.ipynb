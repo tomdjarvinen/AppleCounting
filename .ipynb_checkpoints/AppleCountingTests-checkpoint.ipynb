{
 "cells": [
  {
   "cell_type": "code",
   "execution_count": 6,
   "metadata": {},
   "outputs": [],
   "source": [
    "import apple\n",
    "import numpy as np"
   ]
  },
  {
   "cell_type": "code",
   "execution_count": 7,
   "metadata": {},
   "outputs": [
    {
     "name": "stdout",
     "output_type": "stream",
     "text": [
      "\u001b[0m\u001b[01;32m210721_Color_10.png\u001b[0m*\r\n",
      "\u001b[01;32m210721_Color_11.png\u001b[0m*\r\n",
      "\u001b[01;32m210721_Color_12.png\u001b[0m*\r\n",
      "\u001b[01;32m210721_Color_13.png\u001b[0m*\r\n",
      "\u001b[01;32m210721_Color_14.png\u001b[0m*\r\n",
      "\u001b[01;32m210721_Color_15.png\u001b[0m*\r\n",
      "\u001b[01;32m210721_Color_16.png\u001b[0m*\r\n",
      "\u001b[01;32m210721_Color_17.png\u001b[0m*\r\n",
      "\u001b[01;32m210721_Color_18.png\u001b[0m*\r\n",
      "\u001b[01;32m210721_Color_19.png\u001b[0m*\r\n",
      "\u001b[01;32m210721_Color_20.png\u001b[0m*\r\n",
      "\u001b[01;32m210721_Color_2.png\u001b[0m*\r\n",
      "\u001b[01;32m210721_Color_3.png\u001b[0m*\r\n",
      "\u001b[01;32m210721_Color_4.png\u001b[0m*\r\n",
      "\u001b[01;32m210721_Color_5.png\u001b[0m*\r\n",
      "\u001b[01;32m210721_Color_6.png\u001b[0m*\r\n",
      "\u001b[01;32m210721_Color_7.png\u001b[0m*\r\n",
      "\u001b[01;32m210721_Color_8.png\u001b[0m*\r\n",
      "\u001b[01;32m210721_Color_9.png\u001b[0m*\r\n",
      "\u001b[01;32m210721RT_Color_26.png\u001b[0m*\r\n",
      "\u001b[01;32m210721RT_Color_27.png\u001b[0m*\r\n",
      "AppleCountingTest.ipynb\r\n",
      "apple.py\r\n",
      "comp4_7c97cb19-f3f2-4a80-908c-e512ee428da7_det_test_apple.txt\r\n",
      "\u001b[01;34m__pycache__\u001b[0m/\r\n",
      "README.md\r\n"
     ]
    }
   ],
   "source": [
    "ls"
   ]
  },
  {
   "cell_type": "code",
   "execution_count": 8,
   "metadata": {},
   "outputs": [],
   "source": [
    "ImageList = ['210721_Color_2',\n",
    "'210721_Color_3',\n",
    "'210721_Color_4',\n",
    "'210721_Color_5',\n",
    "'210721_Color_6',\n",
    "'210721_Color_7',\n",
    "'210721_Color_8',\n",
    "'210721_Color_9']\n",
    "detectionResults = 'comp4_7c97cb19-f3f2-4a80-908c-e512ee428da7_det_test_apple.txt'\n",
    "doge = apple.FrameList(ImageList,detectionResults)"
   ]
  },
  {
   "cell_type": "code",
   "execution_count": 9,
   "metadata": {},
   "outputs": [],
   "source": [
    "detections = (doge.detectApples())\n",
    "frame = doge.displayCurrentFrame(detections)"
   ]
  },
  {
   "cell_type": "code",
   "execution_count": 10,
   "metadata": {},
   "outputs": [
    {
     "ename": "TypeError",
     "evalue": "estimateSize() takes 0 positional arguments but 1 was given",
     "output_type": "error",
     "traceback": [
      "\u001b[0;31m---------------------------------------------------------------------------\u001b[0m",
      "\u001b[0;31mTypeError\u001b[0m                                 Traceback (most recent call last)",
      "\u001b[0;32m<ipython-input-10-f4d0f09d3fe7>\u001b[0m in \u001b[0;36m<module>\u001b[0;34m()\u001b[0m\n\u001b[0;32m----> 1\u001b[0;31m \u001b[0mappleTest\u001b[0m \u001b[0;34m=\u001b[0m \u001b[0mapple\u001b[0m\u001b[0;34m.\u001b[0m\u001b[0mApple\u001b[0m\u001b[0;34m(\u001b[0m\u001b[0mdetections\u001b[0m\u001b[0;34m[\u001b[0m\u001b[0;36m5\u001b[0m\u001b[0;34m]\u001b[0m\u001b[0;34m,\u001b[0m\u001b[0;36m1\u001b[0m\u001b[0;34m)\u001b[0m\u001b[0;34m\u001b[0m\u001b[0m\n\u001b[0m",
      "\u001b[0;32m~/Source/DeepFlow/deep-flow/fruitcounting/apple.py\u001b[0m in \u001b[0;36m__init__\u001b[0;34m(self, position, confidence, velocityPrior, time)\u001b[0m\n\u001b[1;32m     47\u001b[0m             B=perterbationTransition,C=observationMatrix,Q=processNoiseCov,R=sensorNoiseCov)\n\u001b[1;32m     48\u001b[0m         \u001b[0;31m# Size defines the largest detected size of the currently detected apple in terms of major and minor axes (mm)\u001b[0m\u001b[0;34m\u001b[0m\u001b[0;34m\u001b[0m\u001b[0m\n\u001b[0;32m---> 49\u001b[0;31m         \u001b[0mself\u001b[0m\u001b[0;34m.\u001b[0m\u001b[0msize\u001b[0m \u001b[0;34m=\u001b[0m \u001b[0mself\u001b[0m\u001b[0;34m.\u001b[0m\u001b[0mestimateSize\u001b[0m\u001b[0;34m(\u001b[0m\u001b[0;34m)\u001b[0m\u001b[0;34m\u001b[0m\u001b[0m\n\u001b[0m\u001b[1;32m     50\u001b[0m         \u001b[0;31m# Value varying from 0-1; output from object detector\u001b[0m\u001b[0;34m\u001b[0m\u001b[0;34m\u001b[0m\u001b[0m\n\u001b[1;32m     51\u001b[0m         \u001b[0mself\u001b[0m\u001b[0;34m.\u001b[0m\u001b[0mconfidence\u001b[0m \u001b[0;34m=\u001b[0m \u001b[0mconfidence\u001b[0m\u001b[0;34m\u001b[0m\u001b[0m\n",
      "\u001b[0;31mTypeError\u001b[0m: estimateSize() takes 0 positional arguments but 1 was given"
     ]
    }
   ],
   "source": [
    "appleTest = apple.Apple(detections[5],1)"
   ]
  },
  {
   "cell_type": "code",
   "execution_count": null,
   "metadata": {},
   "outputs": [],
   "source": [
    "doge.currentFrame"
   ]
  }
 ],
 "metadata": {
  "kernelspec": {
   "display_name": "Python 3",
   "language": "python",
   "name": "python3"
  },
  "language_info": {
   "codemirror_mode": {
    "name": "ipython",
    "version": 3
   },
   "file_extension": ".py",
   "mimetype": "text/x-python",
   "name": "python",
   "nbconvert_exporter": "python",
   "pygments_lexer": "ipython3",
   "version": "3.6.5"
  }
 },
 "nbformat": 4,
 "nbformat_minor": 2
}
