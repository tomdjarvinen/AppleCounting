{
 "cells": [
  {
   "cell_type": "code",
   "execution_count": 1,
   "metadata": {},
   "outputs": [],
   "source": [
    "import apple\n",
    "import numpy as np"
   ]
  },
  {
   "cell_type": "code",
   "execution_count": 2,
   "metadata": {},
   "outputs": [
    {
     "name": "stdout",
     "output_type": "stream",
     "text": [
      "\u001b[0m\u001b[01;32m210721_Color_10.png\u001b[0m*\r\n",
      "\u001b[01;32m210721_Color_11.png\u001b[0m*\r\n",
      "\u001b[01;32m210721_Color_12.png\u001b[0m*\r\n",
      "\u001b[01;32m210721_Color_13.png\u001b[0m*\r\n",
      "\u001b[01;32m210721_Color_14.png\u001b[0m*\r\n",
      "\u001b[01;32m210721_Color_15.png\u001b[0m*\r\n",
      "\u001b[01;32m210721_Color_16.png\u001b[0m*\r\n",
      "\u001b[01;32m210721_Color_17.png\u001b[0m*\r\n",
      "\u001b[01;32m210721_Color_18.png\u001b[0m*\r\n",
      "\u001b[01;32m210721_Color_19.png\u001b[0m*\r\n",
      "\u001b[01;32m210721_Color_20.png\u001b[0m*\r\n",
      "\u001b[01;32m210721_Color_2.png\u001b[0m*\r\n",
      "\u001b[01;32m210721_Color_3.png\u001b[0m*\r\n",
      "\u001b[01;32m210721_Color_4.png\u001b[0m*\r\n",
      "\u001b[01;32m210721_Color_5.png\u001b[0m*\r\n",
      "\u001b[01;32m210721_Color_6.png\u001b[0m*\r\n",
      "\u001b[01;32m210721_Color_7.png\u001b[0m*\r\n",
      "\u001b[01;32m210721_Color_8.png\u001b[0m*\r\n",
      "\u001b[01;32m210721_Color_9.png\u001b[0m*\r\n",
      "\u001b[01;32m210721RT_Color_26.png\u001b[0m*\r\n",
      "\u001b[01;32m210721RT_Color_27.png\u001b[0m*\r\n",
      "AppleCountingTest.ipynb\r\n",
      "apple.py\r\n",
      "comp4_7c97cb19-f3f2-4a80-908c-e512ee428da7_det_test_apple.txt\r\n",
      "\u001b[01;34m__pycache__\u001b[0m/\r\n",
      "README.md\r\n"
     ]
    }
   ],
   "source": [
    "ls"
   ]
  },
  {
   "cell_type": "code",
   "execution_count": 3,
   "metadata": {},
   "outputs": [],
   "source": [
    "ImageList = ['210721_Color_2',\n",
    "'210721_Color_3',\n",
    "'210721_Color_4',\n",
    "'210721_Color_5',\n",
    "'210721_Color_6',\n",
    "'210721_Color_7',\n",
    "'210721_Color_8',\n",
    "'210721_Color_9']\n",
    "detectionResults = 'comp4_7c97cb19-f3f2-4a80-908c-e512ee428da7_det_test_apple.txt'\n",
    "doge = apple.FrameList(ImageList,detectionResults)"
   ]
  },
  {
   "cell_type": "code",
   "execution_count": 4,
   "metadata": {},
   "outputs": [],
   "source": [
    "detections = (doge.detectApples())\n",
    "frame = doge.displayCurrentFrame(detections)\n",
    "appleTest = apple.Apple(detections[5],1)\n",
    "doge.advanceFrame()"
   ]
  },
  {
   "cell_type": "code",
   "execution_count": 5,
   "metadata": {},
   "outputs": [],
   "source": []
  },
  {
   "cell_type": "code",
   "execution_count": 7,
   "metadata": {},
   "outputs": [],
   "source": []
  },
  {
   "cell_type": "code",
   "execution_count": null,
   "metadata": {},
   "outputs": [],
   "source": []
  }
 ],
 "metadata": {
  "kernelspec": {
   "display_name": "Python 3",
   "language": "python",
   "name": "python3"
  },
  "language_info": {
   "codemirror_mode": {
    "name": "ipython",
    "version": 3
   },
   "file_extension": ".py",
   "mimetype": "text/x-python",
   "name": "python",
   "nbconvert_exporter": "python",
   "pygments_lexer": "ipython3",
   "version": "3.6.5"
  }
 },
 "nbformat": 4,
 "nbformat_minor": 2
}
